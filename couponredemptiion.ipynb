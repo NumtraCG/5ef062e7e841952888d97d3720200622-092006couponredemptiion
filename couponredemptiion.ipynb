{
 "cells": [
  {
   "cell_type": "markdown",
   "metadata": {},
   "source": [
    "***GENERATED CODE FOR couponredemptiion PIPELINE.***"
   ]
  },
  {
   "cell_type": "markdown",
   "metadata": {},
   "source": [
    "***DON'T EDIT THIS CODE.***"
   ]
  },
  {
   "cell_type": "markdown",
   "metadata": {},
   "source": [
    "***CONNECTOR FUNCTIONS TO READ DATA FROM DATABRICKS FILESYSTEM.***"
   ]
  },
  {
   "cell_type": "code",
   "execution_count": null,
   "metadata": {},
   "outputs": [],
   "source": [
    "import datetime\n",
    "import logging\n",
    "import warnings\n",
    "warnings.filterwarnings('ignore')\n",
    "logging.basicConfig(format='%(levelname)s:%(message)s', level=logging.INFO)\n",
    "\n",
    "\n",
    "class DBFSConnector:\n",
    "\n",
    "    def fetch(spark, config):\n",
    "        df = spark.read.\\\n",
    "            options(header='true' if eval(config)[\"is_header\"] == \"Use Header Line\" else 'false',\n",
    "                    inferschema='true',\n",
    "                    delimiter=eval(config)[\"delimiter\"])\\\n",
    "            .csv(eval(config)['url'])\n",
    "        display(df.limit(2).toPandas())\n",
    "        return df\n",
    "\n",
    "    def put(df, spark, config):\n",
    "        return df.write.format('csv').options(header='true' if eval(config)[\"is_header\"] == \"Use Header Line\" else 'false',\n",
    "                                              delimiter=eval(config)[\"delimiter\"]).save((\"%s %s\") % (datetime.datetime.now().strftime(\"%Y-%m-%d %H.%M.%S\")+\"_\", eval(config)['url']))\n"
   ]
  },
  {
   "cell_type": "markdown",
   "metadata": {},
   "source": [
    "***OPERATION FUNCTIONS***"
   ]
  },
  {
   "cell_type": "code",
   "execution_count": null,
   "metadata": {},
   "outputs": [],
   "source": [
    "\n",
    "\n",
    "def QueryEditor(spark, joindataobj):\n",
    "    for source in joindataobj[\"sourcesForQuery\"]:\n",
    "        sourcename = source['sourcename']\n",
    "        source['sourcename'] = spark.read.options(header='true', inferschema='true', delimiter=',')\\\n",
    "            .csv('dbfs:' + source['sourcepath'])\n",
    "        source['sourcename'].createOrReplaceTempView(sourcename)\n",
    "    joinedDf = spark.sql(joindataobj['querytext'])\n",
    "    df = removeIfDuplicates(joinedDf)\n",
    "    print(display(df.limit(2).toPandas()))\n",
    "    return df\n",
    "\n",
    "\n",
    "def removeIfDuplicates(joinedDf):\n",
    "    cols_new = []\n",
    "    seen = set()\n",
    "    for c in joinedDf.columns:\n",
    "        cols_new.append('{}_dup'.format(c) if c in seen else c)\n",
    "        seen.add(c)\n",
    "    df = joinedDf.toDF(*cols_new).select(*\n",
    "                                         [c for c in cols_new if not c.endswith('_dup')])\n",
    "    return df\n"
   ]
  },
  {
   "cell_type": "markdown",
   "metadata": {},
   "source": [
    "***TRANSFORMATIONS FUNCTIONS THAT WILL BE APPLIED ON DATA***"
   ]
  },
  {
   "cell_type": "code",
   "execution_count": null,
   "metadata": {},
   "outputs": [],
   "source": [
    "import json\n",
    "from pyspark.sql.functions import round\n",
    "from pyspark.ml.feature import Binarizer\n",
    "from pyspark.sql.functions import col, when\n",
    "from pyspark.sql.functions import mean, stddev, min, max, col\n",
    "\n",
    "\n",
    "class CleanseData:\n",
    "    # def __init__(self,df):\n",
    "    #     #print()\n",
    "\n",
    "    def replaceByMean(self, feature, df, mean_=-1):\n",
    "\n",
    "        meanValue = df.select(mean(col(feature.name)).alias(\n",
    "            'mean')).collect()[0][\"mean\"]\n",
    "        df.fillna(meanValue, subset=[feature.name])\n",
    "        df.withColumn(feature.name, when(col(feature.name) == \" \",\n",
    "                                         meanValue).otherwise(col(feature.name).cast(\"Integer\")))\n",
    "        return df\n",
    "\n",
    "    def replaceByMax(self, feature, df, max_=-1):\n",
    "        maxValue = df.select(max(col(feature.name)).alias('max')).collect()[\n",
    "            0][\"max\"]\n",
    "        df.fillna(maxValue, subset=[feature.name])\n",
    "        df = df.withColumn(feature.name,\n",
    "                           when(col(feature.name) == \" \", maxValue).otherwise(col(feature.name)))\n",
    "        return df\n",
    "\n",
    "    def replaceByMin(self, feature, df, min_=-1):\n",
    "        minValue = df.select(min(col(feature.name)).alias('min')).collect()[\n",
    "            0][\"min\"]\n",
    "        df.fillna(minValue, subset=[feature.name])\n",
    "        df = df.withColumn(feature.name,\n",
    "                           when(col(feature.name) == \" \", minValue).otherwise(col(feature.name)))\n",
    "        return df\n",
    "\n",
    "    def replaceByStandardDeviation(self, feature, df, stddev_=-1):\n",
    "        stddevValue = df.select(stddev(col(feature.name)).alias(\n",
    "            'stddev')).collect()[0][\"stddev\"]\n",
    "        df.fillna(stddevValue, subset=[feature.name])\n",
    "        df = df.withColumn(feature.name,\n",
    "                           when(col(feature.name) == \" \", stddevValue).otherwise(col(feature.name)))\n",
    "        return df\n",
    "\n",
    "    def replaceDateRandomly(self, feature, df):\n",
    "        fillValue = df.where(col(feature.name).isNotNull()\n",
    "                             ).head(1)[0][feature.name]\n",
    "        df.fillna(str(fillValue), subset=[feature.name])\n",
    "        df = df.withColumn(feature.name,\n",
    "                           when(col(feature.name) == \" \", fillValue).otherwise(col(feature.name)))\n",
    "        # print(\"CleanseData:replaceDateRandomly Schema : \", df.#printSchema())\n",
    "        return df\n",
    "\n",
    "    def replaceNullValues(self, fList, df):\n",
    "        featuresList = df.schema.fields\n",
    "        for featureObj in fList:\n",
    "            for feat in featuresList:\n",
    "                if featureObj[\"feature\"] in feat.name:\n",
    "                    featureName = feat\n",
    "                    if \"mean\" in featureObj[\"replaceby\"]:\n",
    "                        df = self.replaceByMean(featureName, df)\n",
    "                    elif \"max\" in featureObj[\"replaceby\"]:\n",
    "                        df = self.replaceByMax(featureName, df)\n",
    "                    elif \"min\" in featureObj[\"replaceby\"]:\n",
    "                        df = self.replaceByMin(featureName, df)\n",
    "                    elif \"stddev\" in featureObj[\"replaceby\"]:\n",
    "                        df = self.replaceByStandardDeviation(featureName, df)\n",
    "                    elif \"random\" in featureObj[\"replaceby\"]:\n",
    "                        df = self.replaceDateRandomly(featureName, df)\n",
    "        return df\n",
    "\n",
    "\n",
    "def BinarizerTransform(df, params, transformationData={}):\n",
    "    dfReturn = df\n",
    "    transform_params = params\n",
    "    feature = transform_params['feature']\n",
    "    outcol = feature + \"_binarizer\"\n",
    "    dfReturn = dfReturn.withColumn(\"feature_cast\", dfReturn[feature].cast(\"double\")).drop(feature)\\\n",
    "        .withColumnRenamed(\"feature_cast\", feature)\n",
    "\n",
    "    dfReturn = dfReturn.fillna({feature: 0.0})\n",
    "    binarizer = Binarizer(threshold=float(\n",
    "        transformationData['threshold']), inputCol=feature, outputCol=outcol)\n",
    "    binarizedDataFrame = binarizer.transform(dfReturn)\n",
    "\n",
    "    # binarizedDataFrame=binarizedDataFrame.drop(feature).withColumnRenamed(outcol,feature)\n",
    "\n",
    "    dfReturn = binarizedDataFrame\n",
    "    dfReturn = dfReturn.withColumn(feature, round(dfReturn[feature], 2))\n",
    "\n",
    "    return dfReturn\n",
    "\n",
    "\n",
    "class TransformationMain:\n",
    "    # TODO: change df argument in run with following\n",
    "    def run(transformationDF, config):\n",
    "        configObj = json.loads(config)\n",
    "        featureData = configObj[\"FE\"]\n",
    "        transformationDF = CleanseData().replaceNullValues(featureData, transformationDF)\n",
    "        transformationDF = BinarizerTransform(transformationDF, {'transformationsData': [{'feature_label': 'price_sum', 'threshold': 241351.7940940976, 'transformation_label': 'Binarizer'}], 'feature': 'price_sum', 'type': 'real', 'selected': 'True', 'replaceby': 'mean', 'stats': {\n",
    "                                              'count': '8645', 'mean': '241351.79', 'stddev': '1379903.64', 'min': '70.88', 'max': '1.5953485738516184E7', 'missing': '0'}, 'transformation': [{'transformation': 'Binarizer', 'selectedAsDefault': 1}]}, {'feature_label': 'price_sum', 'threshold': 241351.7940940976, 'transformation_label': 'Binarizer'})\n",
    "        transformationDF = transformationDF.drop('price_sum')\n",
    "        transformationDF = BinarizerTransform(transformationDF, {'transformationsData': [{'feature_label': 'pprice_sum', 'threshold': 122208.75997849715, 'transformation_label': 'Binarizer'}], 'feature': 'pprice_sum', 'type': 'real', 'selected': 'True', 'replaceby': 'mean', 'stats': {\n",
    "            'count': '8645', 'mean': '122208.76', 'stddev': '71149.59', 'min': '12913.851499999999', 'max': '448746.4825971811', 'missing': '0'}, 'transformation': [{'transformation': 'Binarizer', 'selectedAsDefault': 1}]}, {'feature_label': 'pprice_sum', 'threshold': 122208.75997849715, 'transformation_label': 'Binarizer'})\n",
    "        transformationDF = transformationDF.drop('pprice_sum')\n",
    "        display(transformationDF.limit(2).toPandas())\n",
    "        return transformationDF\n"
   ]
  },
  {
   "cell_type": "markdown",
   "metadata": {},
   "source": [
    "***AUTOML FUNCTIONS***"
   ]
  },
  {
   "cell_type": "code",
   "execution_count": null,
   "metadata": {},
   "outputs": [],
   "source": [
    "from tpot import TPOTClassifier\n",
    "from sklearn.model_selection import train_test_split\n",
    "import pyspark\n",
    "\n",
    "\n",
    "def functionClassification(sparkDF, listOfFeatures, label):\n",
    "    sparkDF.persist(pyspark.StorageLevel.MEMORY_AND_DISK)\n",
    "    df = (sparkDF.toPandas())\n",
    "    X = (df.drop(label, axis=1))[listOfFeatures].values\n",
    "    y = df[label].values\n",
    "    X_train, X_test, y_train, y_test = train_test_split(\n",
    "        X, y, random_state=1, test_size=0.1)\n",
    "    tpotModel = TPOTClassifier(verbosity=3, n_jobs=-1, generations=10, max_time_mins=5,\n",
    "                               population_size=15)\n",
    "    tpotModel.fit(X_train, y_train)\n",
    "    display(\" Accuracy of Model : %s\" % tpotModel.score(X_test, y_test))\n",
    "    data = {'model': tpotModel,\n",
    "            'X_test': X_test,\n",
    "            'y_test': y_test,\n",
    "            'label': label,\n",
    "            'columnNames': listOfFeatures}\n",
    "    return data\n"
   ]
  },
  {
   "cell_type": "markdown",
   "metadata": {},
   "source": [
    "***READING DATAFRAME***"
   ]
  },
  {
   "cell_type": "code",
   "execution_count": null,
   "metadata": {},
   "outputs": [],
   "source": [
    "from pyspark.sql import SparkSession\n",
    "spark = SparkSession.builder.getOrCreate()\n",
    "\n",
    "%run couponredemptiionHooks.ipynb\n",
    "try:\n",
    "\tsourcePreExecutionHook()\n",
    "\ttrain = DBFSConnector.fetch(spark, \"{'url': '/CouponRedemption/train.csv', 'file_type': 'Delimeted', 'delimiter': ',', 'is_header': 'Use Header Line'}\")\n",
    "\n",
    "\n",
    "\tcoupon = DBFSConnector.fetch(spark, \"{'url': '/CouponRedemption/coupon.csv', 'file_type': 'Delimeted', 'delimiter': ',', 'is_header': 'Use Header Line'}\")\n",
    "\n",
    "\n",
    "\tcampaign = DBFSConnector.fetch(spark, \"{'url': '/CouponRedemption/campaign.csv', 'file_type': 'Delimeted', 'delimiter': ',', 'is_header': 'Use Header Line'}\")\n",
    "\n",
    "\n",
    "\tcustomer = DBFSConnector.fetch(spark, \"{'url': '/CouponRedemption/cust_demo.csv', 'file_type': 'Delimeted', 'delimiter': ',', 'is_header': 'Use Header Line'}\")\n",
    "\n",
    "\n",
    "\n",
    "\ttransactions = DBFSConnector.fetch(spark, \"{'url': '/CouponRedemption/transactions.csv', 'file_type': 'Delimeted', 'delimiter': ',', 'is_header': 'Use Header Line'}\")\n",
    "\tsourcePostExecutionHook(transactions)\n",
    "\n",
    "except Exception as ex: \n",
    "\tlogging.error(ex)\n"
   ]
  },
  {
   "cell_type": "markdown",
   "metadata": {},
   "source": [
    "***PERFORMING OPERATIONS***"
   ]
  },
  {
   "cell_type": "code",
   "execution_count": null,
   "metadata": {},
   "outputs": [],
   "source": [
    "%run couponredemptiionHooks.ipynb\n",
    "try:\n",
    "\toperationPreExecutionHook()\n",
    "\n",
    "\tjoindata = QueryEditor(spark, {\"querytext\": \"SELECT * \\rFROM Train\\rJOIN coupon \\rON Train.coupon_id = coupon.coupon_id\\rJOIN Campaign \\rON Train.campaign_id = Campaign.campaign_id\\rJOIN Customer \\rON Train.customer_id = Customer.customer_id\\rJOIN transactions\\rON Customer.customer_id = transactions.customer_id\", \"sourcesForQuery\": [{\"sourcename\": \"Customer\", \"sourcepath\": \"/CouponRedemption/cust_demo.csv\", \"sourceid\": \"5ef06318e841952888d97d3d\"}, {\"sourcename\": \"Campaign\", \"sourcepath\": \"/CouponRedemption/campaign.csv\", \"sourceid\": \"5ef06315e841952888d97d3c\"}, {\"sourcename\": \"coupon\", \"sourcepath\": \"/CouponRedemption/coupon.csv\", \"sourceid\": \"5ef06311e841952888d97d3b\"}, {\"sourcename\": \"Train\", \"sourcepath\": \"/CouponRedemption/train.csv\", \"sourceid\": \"5ef062e7e841952888d97d38\"}, {\"sourcename\": \"transactions\", \"sourcepath\": \"/CouponRedemption/transactions.csv\", \"sourceid\": \"5ef0631ce841952888d97d3e\"}], \"fieldsForQuery\": [{\"sourcename\": \"Customer\", \"fieldname\": \"customer_id\"}, {\"sourcename\": \"Campaign\", \"fieldname\": \"campaign_id\"}, {\"sourcename\": \"coupon\", \"fieldname\": \"coupon_id\"}, {\"sourcename\": \"Train\", \"fieldname\": \"id\"}, {\"sourcename\": \"Train\", \"fieldname\": \"campaign_id\"}, {\"sourcename\": \"Train\", \"fieldname\": \"coupon_id\"}, {\"sourcename\": \"Train\", \"fieldname\": \"customer_id\"}, {\"sourcename\": \"transactions\", \"fieldname\": \"customer_id\"}]})\n",
    "\toperationPostExecutionHook(joindata)\n",
    "\n",
    "except Exception as ex: \n",
    "\tlogging.error(ex)\n"
   ]
  },
  {
   "cell_type": "markdown",
   "metadata": {},
   "source": [
    "***TRANSFORMING DATAFRAME***"
   ]
  },
  {
   "cell_type": "code",
   "execution_count": null,
   "metadata": {},
   "outputs": [],
   "source": [
    "%run couponredemptiionHooks.ipynb\n",
    "try:\n",
    "\ttransformationPreExecutionHook()\n",
    "\n",
    "\tcouponredemptiionautofe = TransformationMain.run(joindata,json.dumps( {\"FE\": [{\"transformationsData\": [{\"transformation_label\": \"novalue\"}], \"feature\": \"coupon_id\", \"transformation\": [{\"transformation\": \"novalue\", \"selectedAsDefault\": 1}], \"type\": \"numeric\", \"replaceby\": \"mean\", \"selected\": \"True\", \"stats\": {\"count\": \"8645\", \"mean\": \"568.89\", \"stddev\": \"329.06\", \"min\": \"1\", \"max\": \"1115\", \"missing\": \"0\"}}, {\"transformationsData\": [{\"transformation_label\": \"novalue\"}], \"feature\": \"customer_id\", \"transformation\": [{\"transformation\": \"novalue\", \"selectedAsDefault\": 1}], \"type\": \"numeric\", \"replaceby\": \"mean\", \"selected\": \"True\", \"stats\": {\"count\": \"8645\", \"mean\": \"778.52\", \"stddev\": \"459.96\", \"min\": \"1\", \"max\": \"1581\", \"missing\": \"0\"}}, {\"transformationsData\": [{\"transformation_label\": \"novalue\"}], \"feature\": \"redemption_status\", \"transformation\": [{\"transformation\": \"novalue\", \"selectedAsDefault\": 1}], \"type\": \"numeric\", \"replaceby\": \"mean\", \"selected\": \"True\", \"stats\": {\"count\": \"8645\", \"mean\": \"0.01\", \"stddev\": \"0.12\", \"min\": \"0\", \"max\": \"1\", \"missing\": \"0\"}}, {\"transformationsData\": [{\"transformation_label\": \"novalue\"}], \"feature\": \"brand\", \"transformation\": [{\"transformation\": \"novalue\", \"selectedAsDefault\": 1}], \"type\": \"numeric\", \"replaceby\": \"mean\", \"selected\": \"True\", \"stats\": {\"count\": \"8645\", \"mean\": \"1056.21\", \"stddev\": \"1335.6\", \"min\": \"1\", \"max\": \"5395\", \"missing\": \"0\"}}, {\"transformationsData\": [{\"transformation_label\": \"novalue\"}], \"feature\": \"brand_type\", \"transformation\": [{\"transformation\": \"novalue\", \"selectedAsDefault\": 1}], \"type\": \"numeric\", \"replaceby\": \"mean\", \"selected\": \"True\", \"stats\": {\"count\": \"8645\", \"mean\": \"0.21\", \"stddev\": \"0.41\", \"min\": \"0\", \"max\": \"1\", \"missing\": \"0\"}}, {\"transformationsData\": [{\"transformation_label\": \"novalue\"}], \"feature\": \"category\", \"transformation\": [{\"transformation\": \"novalue\", \"selectedAsDefault\": 1}], \"type\": \"numeric\", \"replaceby\": \"mean\", \"selected\": \"True\", \"stats\": {\"count\": \"8645\", \"mean\": \"7.43\", \"stddev\": \"2.57\", \"min\": \"1\", \"max\": \"16\", \"missing\": \"0\"}}, {\"transformationsData\": [{\"transformation_label\": \"novalue\"}], \"feature\": \"cd_sum\", \"type\": \"real\", \"selected\": \"True\", \"replaceby\": \"mean\", \"stats\": {\"count\": \"8645\", \"mean\": \"-1612.99\", \"stddev\": \"8462.12\", \"min\": \"-113627.33999999987\", \"max\": \"0.0\", \"missing\": \"0\"}, \"transformation\": [{\"transformation\": \"novalue\", \"selectedAsDefault\": 1}]}, {\"transformationsData\": [{\"transformation_label\": \"novalue\"}], \"feature\": \"coupon_discount\", \"type\": \"real\", \"selected\": \"True\", \"replaceby\": \"mean\", \"stats\": {\"count\": \"8645\", \"mean\": \"-2.28\", \"stddev\": \"5.7\", \"min\": \"-71.24\", \"max\": \"0.0\", \"missing\": \"0\"}, \"transformation\": [{\"transformation\": \"novalue\", \"selectedAsDefault\": 1}]}, {\"transformationsData\": [{\"transformation_label\": \"novalue\"}], \"feature\": \"coupon_used\", \"type\": \"real\", \"selected\": \"True\", \"replaceby\": \"mean\", \"stats\": {\"count\": \"8645\", \"mean\": \"47.3\", \"stddev\": \"234.83\", \"min\": \"0.0\", \"max\": \"2661.0\", \"missing\": \"0\"}, \"transformation\": [{\"transformation\": \"novalue\", \"selectedAsDefault\": 1}]}, {\"transformationsData\": [{\"transformation_label\": \"novalue\"}], \"feature\": \"item_counts\", \"transformation\": [{\"transformation\": \"novalue\", \"selectedAsDefault\": 1}], \"type\": \"numeric\", \"replaceby\": \"mean\", \"selected\": \"True\", \"stats\": {\"count\": \"8645\", \"mean\": \"100.98\", \"stddev\": \"755.02\", \"min\": \"1\", \"max\": \"11813\", \"missing\": \"0\"}}, {\"transformationsData\": [{\"transformation_label\": \"novalue\"}], \"feature\": \"no_of_customers\", \"type\": \"real\", \"selected\": \"True\", \"replaceby\": \"mean\", \"stats\": {\"count\": \"8645\", \"mean\": \"17.61\", \"stddev\": \"13.85\", \"min\": \"1.0\", \"max\": \"118.57142857142857\", \"missing\": \"0\"}, \"transformation\": [{\"transformation\": \"novalue\", \"selectedAsDefault\": 1}]}, {\"transformationsData\": [{\"transformation_label\": \"novalue\"}], \"feature\": \"od_sum\", \"type\": \"real\", \"selected\": \"True\", \"replaceby\": \"mean\", \"stats\": {\"count\": \"8645\", \"mean\": \"-37687.55\", \"stddev\": \"227522.87\", \"min\": \"-3259657.797895498\", \"max\": \"0.0\", \"missing\": \"0\"}, \"transformation\": [{\"transformation\": \"novalue\", \"selectedAsDefault\": 1}]}, {\"transformationsData\": [{\"transformation_label\": \"novalue\"}], \"feature\": \"other_discount\", \"type\": \"real\", \"selected\": \"True\", \"replaceby\": \"mean\", \"stats\": {\"count\": \"8645\", \"mean\": \"-20.56\", \"stddev\": \"20.69\", \"min\": \"-481.4993333333333\", \"max\": \"0.0\", \"missing\": \"0\"}, \"transformation\": [{\"transformation\": \"novalue\", \"selectedAsDefault\": 1}]}, {\"transformationsData\": [{\"feature_label\": \"price_sum\", \"threshold\": 241351.7940940976, \"transformation_label\": \"Binarizer\"}], \"feature\": \"price_sum\", \"type\": \"real\", \"selected\": \"True\", \"replaceby\": \"mean\", \"stats\": {\"count\": \"8645\", \"mean\": \"241351.79\", \"stddev\": \"1379903.64\", \"min\": \"70.88\", \"max\": \"1.5953485738516184E7\", \"missing\": \"0\"}, \"transformation\": [{\"transformation\": \"Binarizer\", \"selectedAsDefault\": 1}]}, {\"transformationsData\": [{\"transformation_label\": \"novalue\"}], \"feature\": \"qu_sum\", \"type\": \"real\", \"selected\": \"True\", \"replaceby\": \"mean\", \"stats\": {\"count\": \"8645\", \"mean\": \"2881.86\", \"stddev\": \"16963.68\", \"min\": \"1.0\", \"max\": \"207579.0\", \"missing\": \"0\"}, \"transformation\": [{\"transformation\": \"novalue\", \"selectedAsDefault\": 1}]}, {\"transformationsData\": [{\"transformation_label\": \"novalue\"}], \"feature\": \"quantity\", \"type\": \"real\", \"selected\": \"True\", \"replaceby\": \"mean\", \"stats\": {\"count\": \"8645\", \"mean\": \"1.18\", \"stddev\": \"0.27\", \"min\": \"1.0\", \"max\": \"4.096091911309303\", \"missing\": \"0\"}, \"transformation\": [{\"transformation\": \"novalue\", \"selectedAsDefault\": 1}]}, {\"transformationsData\": [{\"transformation_label\": \"novalue\"}], \"feature\": \"selling_price\", \"type\": \"real\", \"selected\": \"True\", \"replaceby\": \"mean\", \"stats\": {\"count\": \"8645\", \"mean\": \"161.52\", \"stddev\": \"142.37\", \"min\": \"13.416928746729855\", \"max\": \"1235.863616557734\", \"missing\": \"0\"}, \"transformation\": [{\"transformation\": \"novalue\", \"selectedAsDefault\": 1}]}, {\"transformationsData\": [{\"transformation_label\": \"novalue\"}], \"feature\": \"t_counts\", \"type\": \"real\", \"selected\": \"True\", \"replaceby\": \"mean\", \"stats\": {\"count\": \"8645\", \"mean\": \"2238.63\", \"stddev\": \"12928.3\", \"min\": \"1.0\", \"max\": \"158788.0\", \"missing\": \"0\"}, \"transformation\": [{\"transformation\": \"novalue\", \"selectedAsDefault\": 1}]}, {\"transformationsData\": [{\"transformation_label\": \"novalue\"}], \"feature\": \"total_discount_mean\", \"type\": \"real\", \"selected\": \"True\", \"replaceby\": \"mean\", \"stats\": {\"count\": \"8645\", \"mean\": \"-22.84\", \"stddev\": \"22.18\", \"min\": \"-508.808\", \"max\": \"0.0\", \"missing\": \"0\"}, \"transformation\": [{\"transformation\": \"novalue\", \"selectedAsDefault\": 1}]}, {\"transformationsData\": [{\"transformation_label\": \"novalue\"}], \"feature\": \"total_discount_sum\", \"type\": \"real\", \"selected\": \"True\", \"replaceby\": \"mean\", \"stats\": {\"count\": \"8645\", \"mean\": \"-39300.53\", \"stddev\": \"234070.4\", \"min\": \"-3344221.267895495\", \"max\": \"0.0\", \"missing\": \"0\"}, \"transformation\": [{\"transformation\": \"novalue\", \"selectedAsDefault\": 1}]}, {\"transformationsData\": [{\"transformation_label\": \"novalue\"}], \"feature\": \"campaign_type\", \"transformation\": [{\"transformation\": \"novalue\", \"selectedAsDefault\": 1}], \"type\": \"numeric\", \"replaceby\": \"mean\", \"selected\": \"True\", \"stats\": {\"count\": \"8645\", \"mean\": \"0.28\", \"stddev\": \"0.45\", \"min\": \"0\", \"max\": \"1\", \"missing\": \"0\"}}, {\"transformationsData\": [{\"transformation_label\": \"novalue\"}], \"feature\": \"campaign_duration\", \"transformation\": [{\"transformation\": \"novalue\", \"selectedAsDefault\": 1}], \"type\": \"numeric\", \"replaceby\": \"mean\", \"selected\": \"True\", \"stats\": {\"count\": \"8645\", \"mean\": \"44.69\", \"stddev\": \"6.37\", \"min\": \"32\", \"max\": \"63\", \"missing\": \"0\"}}, {\"transformationsData\": [{\"transformation_label\": \"novalue\"}], \"feature\": \"age_range\", \"transformation\": [{\"transformation\": \"novalue\", \"selectedAsDefault\": 1}], \"type\": \"numeric\", \"replaceby\": \"mean\", \"selected\": \"True\", \"stats\": {\"count\": \"8645\", \"mean\": \"2.42\", \"stddev\": \"1.24\", \"min\": \"0\", \"max\": \"5\", \"missing\": \"0\"}}, {\"transformationsData\": [{\"transformation_label\": \"novalue\"}], \"feature\": \"marital_status\", \"transformation\": [{\"transformation\": \"novalue\", \"selectedAsDefault\": 1}], \"type\": \"numeric\", \"replaceby\": \"mean\", \"selected\": \"True\", \"stats\": {\"count\": \"8645\", \"mean\": \"0.4\", \"stddev\": \"0.49\", \"min\": \"0\", \"max\": \"1\", \"missing\": \"0\"}}, {\"transformationsData\": [{\"transformation_label\": \"novalue\"}], \"feature\": \"rented\", \"transformation\": [{\"transformation\": \"novalue\", \"selectedAsDefault\": 1}], \"type\": \"numeric\", \"replaceby\": \"mean\", \"selected\": \"True\", \"stats\": {\"count\": \"8645\", \"mean\": \"0.06\", \"stddev\": \"0.23\", \"min\": \"0\", \"max\": \"1\", \"missing\": \"0\"}}, {\"transformationsData\": [{\"transformation_label\": \"novalue\"}], \"feature\": \"family_size\", \"transformation\": [{\"transformation\": \"novalue\", \"selectedAsDefault\": 1}], \"type\": \"numeric\", \"replaceby\": \"mean\", \"selected\": \"True\", \"stats\": {\"count\": \"8645\", \"mean\": \"2.22\", \"stddev\": \"1.2\", \"min\": \"1\", \"max\": \"5\", \"missing\": \"0\"}}, {\"transformationsData\": [{\"transformation_label\": \"novalue\"}], \"feature\": \"no_of_children\", \"transformation\": [{\"transformation\": \"novalue\", \"selectedAsDefault\": 1}], \"type\": \"numeric\", \"replaceby\": \"mean\", \"selected\": \"True\", \"stats\": {\"count\": \"8645\", \"mean\": \"0.61\", \"stddev\": \"0.96\", \"min\": \"0\", \"max\": \"3\", \"missing\": \"0\"}}, {\"transformationsData\": [{\"transformation_label\": \"novalue\"}], \"feature\": \"income_bracket\", \"transformation\": [{\"transformation\": \"novalue\", \"selectedAsDefault\": 1}], \"type\": \"numeric\", \"replaceby\": \"mean\", \"selected\": \"True\", \"stats\": {\"count\": \"8645\", \"mean\": \"4.81\", \"stddev\": \"2.37\", \"min\": \"1\", \"max\": \"12\", \"missing\": \"0\"}}, {\"transformationsData\": [{\"transformation_label\": \"novalue\"}], \"feature\": \"day\", \"transformation\": [{\"transformation\": \"novalue\", \"selectedAsDefault\": 1}], \"type\": \"numeric\", \"replaceby\": \"mean\", \"selected\": \"True\", \"stats\": {\"count\": \"8645\", \"mean\": \"15.22\", \"stddev\": \"8.55\", \"min\": \"1\", \"max\": \"31\", \"missing\": \"0\"}}, {\"transformationsData\": [{\"transformation_label\": \"novalue\"}], \"feature\": \"dow\", \"transformation\": [{\"transformation\": \"novalue\", \"selectedAsDefault\": 1}], \"type\": \"numeric\", \"replaceby\": \"mean\", \"selected\": \"True\", \"stats\": {\"count\": \"8645\", \"mean\": \"3.23\", \"stddev\": \"1.7\", \"min\": \"0\", \"max\": \"6\", \"missing\": \"0\"}}, {\"transformationsData\": [{\"transformation_label\": \"novalue\"}], \"feature\": \"no_of_items\", \"transformation\": [{\"transformation\": \"novalue\", \"selectedAsDefault\": 1}], \"type\": \"numeric\", \"replaceby\": \"mean\", \"selected\": \"True\", \"stats\": {\"count\": \"8645\", \"mean\": \"665.82\", \"stddev\": \"329.18\", \"min\": \"97\", \"max\": \"2088\", \"missing\": \"0\"}}, {\"transformationsData\": [{\"transformation_label\": \"novalue\"}], \"feature\": \"month\", \"transformation\": [{\"transformation\": \"novalue\", \"selectedAsDefault\": 1}], \"type\": \"numeric\", \"replaceby\": \"mean\", \"selected\": \"True\", \"stats\": {\"count\": \"8645\", \"mean\": \"4.85\", \"stddev\": \"2.16\", \"min\": \"1\", \"max\": \"12\", \"missing\": \"0\"}}, {\"transformationsData\": [{\"transformation_label\": \"novalue\"}], \"feature\": \"cdd_sum\", \"type\": \"real\", \"selected\": \"True\", \"replaceby\": \"mean\", \"stats\": {\"count\": \"8645\", \"mean\": \"-862.71\", \"stddev\": \"1449.53\", \"min\": \"-11937.800000000007\", \"max\": \"0.0\", \"missing\": \"0\"}, \"transformation\": [{\"transformation\": \"novalue\", \"selectedAsDefault\": 1}]}, {\"transformationsData\": [{\"transformation_label\": \"novalue\"}], \"feature\": \"customer_id_count\", \"transformation\": [{\"transformation\": \"novalue\", \"selectedAsDefault\": 1}], \"type\": \"numeric\", \"replaceby\": \"mean\", \"selected\": \"True\", \"stats\": {\"count\": \"8645\", \"mean\": \"1188.96\", \"stddev\": \"666.17\", \"min\": \"144\", \"max\": \"4134\", \"missing\": \"0\"}}, {\"transformationsData\": [{\"transformation_label\": \"novalue\"}], \"feature\": \"odd_sum\", \"type\": \"real\", \"selected\": \"True\", \"replaceby\": \"mean\", \"stats\": {\"count\": \"8645\", \"mean\": \"-16201.77\", \"stddev\": \"9825.71\", \"min\": \"-62321.37241271824\", \"max\": \"-873.1749999999997\", \"missing\": \"0\"}, \"transformation\": [{\"transformation\": \"novalue\", \"selectedAsDefault\": 1}]}, {\"transformationsData\": [{\"transformation_label\": \"novalue\"}], \"feature\": \"qa_sum\", \"transformation\": [{\"transformation\": \"novalue\", \"selectedAsDefault\": 1}], \"type\": \"numeric\", \"replaceby\": \"mean\", \"selected\": \"True\", \"stats\": {\"count\": \"8645\", \"mean\": \"181178.53\", \"stddev\": \"275277.22\", \"min\": \"179\", \"max\": \"2617544\", \"missing\": \"0\"}}, {\"transformationsData\": [{\"feature_label\": \"pprice_sum\", \"threshold\": 122208.75997849715, \"transformation_label\": \"Binarizer\"}], \"feature\": \"pprice_sum\", \"type\": \"real\", \"selected\": \"True\", \"replaceby\": \"mean\", \"stats\": {\"count\": \"8645\", \"mean\": \"122208.76\", \"stddev\": \"71149.59\", \"min\": \"12913.851499999999\", \"max\": \"448746.4825971811\", \"missing\": \"0\"}, \"transformation\": [{\"transformation\": \"Binarizer\", \"selectedAsDefault\": 1}]}, {\"feature\": \"price_sum_binarizer_transform\", \"transformation\": [{\"transformation\": \"novalue\", \"selectedAsDefault\": 0}], \"transformationsData\": [{\"transformation_label\": \"novalue\"}], \"type\": \"real\", \"selected\": \"True\", \"stats\": {\"count\": \"8645\", \"mean\": \"0.09\", \"stddev\": \"0.29\", \"min\": \"0.0\", \"max\": \"1.0\", \"missing\": \"0\"}}, {\"feature\": \"pprice_sum_binarizer_transform\", \"transformation\": [{\"transformation\": \"novalue\", \"selectedAsDefault\": 0}], \"transformationsData\": [{\"transformation_label\": \"novalue\"}], \"type\": \"real\", \"selected\": \"True\", \"stats\": {\"count\": \"8645\", \"mean\": \"0.4\", \"stddev\": \"0.49\", \"min\": \"0.0\", \"max\": \"1.0\", \"missing\": \"0\"}}]}))\n",
    "\n",
    "\ttransformationPostExecutionHook(couponredemptiionautofe)\n",
    "\n",
    "except Exception as ex: \n",
    "\tlogging.error(ex)\n"
   ]
  },
  {
   "cell_type": "markdown",
   "metadata": {},
   "source": [
    "***TRAIN MODEL***"
   ]
  },
  {
   "cell_type": "code",
   "execution_count": null,
   "metadata": {},
   "outputs": [],
   "source": [
    "%run couponredemptiionHooks.ipynb\n",
    "try:\n",
    "\tmlPreExecutionHook()\n",
    "\n",
    "\tdataAutoML=functionClassification(couponredemptiionautofe, [\"coupon_id\", \"customer_id\", \"brand\", \"brand_type\", \"category\", \"cd_sum\", \"coupon_discount\", \"coupon_used\", \"item_counts\", \"no_of_customers\", \"od_sum\", \"other_discount\", \"qu_sum\", \"quantity\", \"selling_price\", \"t_counts\", \"total_discount_mean\", \"total_discount_sum\", \"campaign_type\", \"campaign_duration\", \"age_range\", \"marital_status\", \"rented\", \"family_size\", \"no_of_children\", \"income_bracket\", \"day\", \"dow\", \"no_of_items\", \"month\", \"cdd_sum\", \"customer_id_count\", \"odd_sum\", \"qa_sum\", \"price_sum_binarizer\", \"pprice_sum_binarizer\"], \"redemption_status\")\n",
    "\n",
    "\tmlPostExecutionHook(dataAutoML)\n",
    "\n",
    "except Exception as ex: \n",
    "\tlogging.error(ex)\n"
   ]
  },
  {
   "cell_type": "markdown",
   "metadata": {},
   "source": [
    "***PREDICT ON TRAINED MODEL***"
   ]
  },
  {
   "cell_type": "code",
   "execution_count": null,
   "metadata": {},
   "outputs": [],
   "source": [
    "import pandas as pd\n",
    "import numpy as np\n",
    "import sklearn.metrics\n",
    "\n",
    "try:\n",
    "    model=dataAutoML['model']\n",
    "    X_test=dataAutoML['X_test']\n",
    "    y_test=dataAutoML['y_test']\n",
    "    label=dataAutoML['label']\n",
    "    columnNames=dataAutoML['columnNames']\n",
    "    if label in columnNames:\n",
    "        columnNames.remove(label)\n",
    "    predicted=label+\"_predicted\"\n",
    "    y_predicted=model.predict(X_test)\n",
    "    df =pd.DataFrame(X_test , columns=columnNames)\n",
    "    df[label]=y_test\n",
    "    df[predicted]=y_predicted\n",
    "    columnNames.insert(0,predicted)\n",
    "    columnNames.insert(0,label)\n",
    "    Accuracy = np.round((100 * sklearn.metrics.accuracy_score(y_true=y_test, y_pred=y_predicted)), 1)\n",
    "    F1= np.round(\n",
    "            (100 * sklearn.metrics.f1_score(y_true=y_test, y_pred=y_predicted, average=\"weighted\")), 1)\n",
    "    Precision= np.round((\n",
    "                100 * sklearn.metrics.precision_score(y_true=y_test, y_pred=y_predicted, average=\"weighted\")), 1)\n",
    "    Recall = np.round((\n",
    "                100 * sklearn.metrics.recall_score(y_true=y_test, y_pred=y_predicted, average=\"weighted\")), 1)\n",
    "    display(\" Accuracy of Prediction on test data    : %s\"%Accuracy)\n",
    "    display(\" F1 score of Prediction on test data    : %s\"%F1)\n",
    "    display(\" Precision of Prediction on test data   : %s\"%Precision)\n",
    "    display(\" Recall of Prediction on test data      : %s\"%Recall)\n",
    "    display(df.head())\n",
    "except Exception as ex:\n",
    "    logging.error(ex)\n",
    "\n"
   ]
  }
 ],
 "metadata": {},
 "nbformat": 4,
 "nbformat_minor": 2
}
